{
 "cells": [
  {
   "cell_type": "markdown",
   "id": "88e75900-9c1d-4909-a18e-670dcf133664",
   "metadata": {},
   "source": [
    "# Designing a thermostable protease from *Geobacillus stearothermophilus*\n",
    "## By Houcemeddine Othman \n",
    "\n",
    "Even though the practical  drew inspiration from the study by [Mansfeld et al, (1997)](https://www.sciencedirect.com/science/article/pii/S0021925818406163), the practical were designed from scratch and the original results were used to add a subtle sense of realism to the work.\n",
    "\n",
    "The aim of our study is to design a stable enzyme that is active at high temperatures. The reference protein, the so called thermolysin-like protein (TLP) was isolated from *Geobacillus stearothermophilus* a rod-shaped, Gram-positive bacterium and a member of the phylum *Bacillota*. TLP has a wide range of applications in industry and pharmacology, particularly in the food and pharmaceutical sectors. In the food industry, TLP is used in the production of food ingredients and additives, such as hydrolyzed proteins, flavor enhancers, and functional peptides. In addition, TLP has shown potential in pharmaceutical and biomedical applications. For example, TLP can be used in the production of therapeutic peptides and proteins, such as enzyme inhibitors, antimicrobial peptides, and vaccines.\n",
    "\n",
    "The goal of the practical is to design an engineered protein that could operate catalytic reactions at high temperatures. \n",
    "\n",
    "## Tools needed for the practical\n",
    "* Foldx 5.0 (free for academic users)[https://foldxsuite.crg.eu/]\n",
    "* PyMOL or EduPyMOL, (free for academic users).\n",
    "* YASARA (optional)\n",
    "\n",
    "## Answer the questions\n",
    "* What is the reference sequence for the protein?\n",
    "* Is there a structure for the protection\n",
    "* retrieve the sequence of the protein in a FASTA format\n",
    "\n",
    "## Modeling Protein \n",
    "Use the [Swiss model](https://swissmodel.expasy.org/) platform to search for a template and build the model.\n",
    "Assess the protein quality using the Ramachandran plot and the available tools from the modeling platform.\n",
    "\n",
    "## Preprocessing the structure\n",
    "*In silico* analysis software uses customized energy functions to model the thermodynamic properties of the protein. These models may not always be compatible with those used to model the protein (such as in our case Swiss model) or the energy functions used to solve the structure of the protein. This may result in an overestimation of the energy of the system when we perform the calculation over non-relaxed structures. In our case, we need to use FoldX to \"repair the structure\". This includes adding any missing atoms to the system and changing the rotameric state of the side chains to remove bad contacts. \n",
    "\n",
    "```\n",
    "foldx --command=RepairPDB --pdb=model_tlp.pdb\n",
    "```\n",
    "If you are operating on a Windows system, you may need to call this command from the folder where the input PDB file is harbored.\n",
    "\n",
    "```\n",
    "foldx.exe --command=RepairPDB --pdb=model_tlp.pdb\n",
    "```\n",
    "## Establishing the alanine scanning profile\n",
    "Key residues of the protein are functionally important amino acids that are most likely to disrupt the protein structure upon a mutation. It is an important part of any *in silico* to reveal these positions. For such a reason, we will perform an alanine scanning analysis using `foldx`. The input file must be the protein-repaired structure.\n",
    "\n",
    "```\n",
    "foldx  --command=AlaScan --pdb=model_tlp_Repair.pdb\n",
    "```\n",
    "The output is a column-wise data file with suffix `_AS.fxout`. In my case, it's `model_tlp_Repair_AS.fxout`. The file looks like the following. "
   ]
  },
  {
   "cell_type": "raw",
   "id": "3a771449-6378-494a-bc5d-bfbe1bd4fb72",
   "metadata": {},
   "source": [
    "VAL 1 to ALA energy change is -0.167263\n",
    "ALA 2 to ALA energy change is 0\n",
    "GLY 3 to ALA energy change is 8.46877\n",
    "ALA 4 to ALA energy change is 0\n",
    "SER 5 to ALA energy change is 0.22429\n",
    "THR 6 to ALA energy change is 0.951172\n",
    "VAL 7 to ALA energy change is 0.951768\n",
    "GLY 8 to ALA energy change is 4.44295\n",
    "VAL 9 to ALA energy change is 1.25062\n",
    "GLY 10 to ALA energy change is 4.23477"
   ]
  },
  {
   "cell_type": "markdown",
   "id": "86f13715-7942-4d0c-9c46-3fbe23f70e2d",
   "metadata": {},
   "source": [
    "Let's plot the data using matplotlib library. If you are using Google Colab notebook, you need first to upload the file"
   ]
  },
  {
   "cell_type": "code",
   "execution_count": 19,
   "id": "534627c6-d678-432c-b5ef-f07474370953",
   "metadata": {
    "scrolled": true
   },
   "outputs": [
    {
     "data": {
      "text/plain": [
       "Text(0, 0.5, 'energy variation (kcal/mol)')"
      ]
     },
     "execution_count": 19,
     "metadata": {},
     "output_type": "execute_result"
    },
    {
     "data": {
      "image/png": "[encoded data removed]",
      "text/plain": [
       "<Figure size 2500x300 with 1 Axes>"
      ]
     },
     "metadata": {},
     "output_type": "display_data"
    }
   ],
   "source": [
    "import pandas as pd \n",
    "import matplotlib.pylab as plt \n",
    "plt.figure(figsize=(25, 3))  # Width: 10 inches, Height: 6 inches\n",
    "alascan = pd.read_table(\"output/model_tlp_Repair_AS.fxout\", sep=\"\\s\",\n",
    "                        names=[\"residue\", \"seq_index\", \"label1\", \"ala\", \"label2\", \"label3\" , \"label4\", \"energy\"],\n",
    "                       engine='python')\n",
    "colors = ['red' if val > 0.5 else 'blue' for val in alascan.energy]\n",
    "plt.bar(alascan.seq_index, alascan.energy, color=colors)\n",
    "plt.xlabel(\"residue index\")\n",
    "plt.ylabel(\"energy variation (kcal/mol)\")"
   ]
  },
  {
   "cell_type": "markdown",
   "id": "3ee5e691-89fb-4046-bf71-282445e8a656",
   "metadata": {},
   "source": [
    "## Disulfide bond design\n",
    "\n",
    "Statistical analysis on protein structures of the PDB showed that disulfide bonds adopt a specific geometry. For example, the χ3 torsion angle, which is defined by the rotation of the two Cβ atoms about the Sγ-Sγ bond, should have peaks around -87° and +97°. The energy of the potential disulfide bond should be less than 2.2 kcal/mol, as 90% of native disulfide bonds have an energy value below this threshold. \n",
    "\n",
    "<img src=\"https://www.researchgate.net/publication/338749421/figure/fig1/AS:850131482062848@1579698548143/Geometry-of-a-disulfide-bond-The-covalent-bond-between-the-sulfur-atoms-of-cysteine.png\" width=\"250\" height=\"150\">\n"
   ]
  },
  {
   "cell_type": "markdown",
   "id": "ff06dc6a-e1d8-4aa7-8b1e-39e877c02332",
   "metadata": {},
   "source": [
    "Potential disulfide bonds could be identified using automated tools the consider these criteria in the prediction process. The online web server ['Disulfide by Design 2'](http://cptweb.cpt.wayne.edu/DbD2/index.php) will be used to identify potantial disulfide bond sites in the predicted structure of TLP. I have changed my default settings to allow a margin of 5 degrees above or below the χ3 angle interval and 4 degrees tolerance for the Cα-Cβ-Sγ angle. "
   ]
  },
  {
   "cell_type": "markdown",
   "id": "fef96155-deea-4bc4-9a39-cde0311d900e",
   "metadata": {},
   "source": [
    "### Mapping the putative sites to the structure\n",
    "PyMOL CLI could be used to map the putative position of the protein structure. This will allow for a better perspective when you try to integrate all the informations that you have collected so far to decide where the mutation should be introduced. \n",
    "\n",
    "```\n",
    "select group1, resi 21+79+116+169+190+192+272\n",
    "select group2, resi 35+143+136+237+204+205+294\n",
    "```\n",
    "This will create two objects in PyMOL workspace on which you may apply different representations. \n",
    "\n",
    "### Generating the mutant form\n",
    "There are multiple options to generate the mutant form. In PyMOL, the mutagenesis plugin could be used to pick the mutation sites and apply the CYS mutation. One other option also, is to rename the redidues within the PDB file and only keep atoms that are common to cysteine. "
   ]
  },
  {
   "cell_type": "code",
   "execution_count": null,
   "id": "c5525937-c542-444d-acc5-89adc87e60bf",
   "metadata": {},
   "outputs": [],
   "source": []
  }
 ],
 "metadata": {
  "kernelspec": {
   "display_name": "Python 3 (ipykernel)",
   "language": "python",
   "name": "python3"
  },
  "language_info": {
   "codemirror_mode": {
    "name": "ipython",
    "version": 3
   },
   "file_extension": ".py",
   "mimetype": "text/x-python",
   "name": "python",
   "nbconvert_exporter": "python",
   "pygments_lexer": "ipython3",
   "version": "3.8.18"
  }
 },
 "nbformat": 4,
 "nbformat_minor": 5
}
