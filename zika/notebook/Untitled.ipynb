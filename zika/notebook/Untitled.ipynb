{
 "cells": [
  {
   "cell_type": "markdown",
   "id": "90de4708-67f1-43fb-89d1-4d8e13d381c5",
   "metadata": {},
   "source": [
    "## Calculating the size of the genome"
   ]
  },
  {
   "cell_type": "code",
   "execution_count": 3,
   "id": "a5034de7-67e9-46ca-a1fe-c2b9050a389f",
   "metadata": {},
   "outputs": [
    {
     "name": "stdout",
     "output_type": "stream",
     "text": [
      "The size of the genome is 10676 bp\n"
     ]
    }
   ],
   "source": [
    "# open an\n",
    "with open(\"../data/row_sequence.txt\", \"r\") as sequence: \n",
    "    row= sequence.read().replace('\\n', '').replace('\\r', '').replace('\\t', '')\n",
    "genome_size = len(row)\n",
    "print(\"The size of the genome is {0} bp\".format(genome_size))"
   ]
  },
  {
   "cell_type": "markdown",
   "id": "b7cff161-e048-4064-a309-22e4f5925310",
   "metadata": {},
   "source": [
    "## Generating a fasta file"
   ]
  },
  {
   "cell_type": "code",
   "execution_count": 6,
   "id": "6a50911a-45d4-4de0-9f99-7e91ff8d25da",
   "metadata": {},
   "outputs": [],
   "source": [
    "fasta = \">my_sequence|2023|Monastir\\n\"+row+\"\\n\"\n",
    "with open(\"unk.fa\", \"w\") as fasta_file: \n",
    "    fasta_file.write(fasta)"
   ]
  },
  {
   "cell_type": "markdown",
   "id": "89b0c6db-12c7-4ba5-9839-91bc26a9e710",
   "metadata": {},
   "source": [
    "## Performing a BLAST analysis programmarly\n",
    "The below code will test if a connexion to NCBI server could be established"
   ]
  },
  {
   "cell_type": "code",
   "execution_count": 9,
   "id": "d4401367-f3d3-45cc-99f5-ce44d6349194",
   "metadata": {},
   "outputs": [
    {
     "name": "stdout",
     "output_type": "stream",
     "text": [
      "Connection to NCBI server successful\n"
     ]
    }
   ],
   "source": [
    "from Bio import Entrez\n",
    "\n",
    "# Set the email address for your NCBI account\n",
    "Entrez.email = \"houcemoo@gmail.com\"\n",
    "\n",
    "# Test the connection to the NCBI server\n",
    "try:\n",
    "    handle = Entrez.einfo()\n",
    "    print(\"Connection to NCBI server successful\")\n",
    "    handle.close()\n",
    "except Exception as e:\n",
    "    print(\"Connection to NCBI server failed:\", e)"
   ]
  },
  {
   "cell_type": "markdown",
   "id": "7fbb5dc6-01c9-4d08-8d1e-fca2effa5333",
   "metadata": {},
   "source": [
    "Now we can query the generated sequence"
   ]
  },
  {
   "cell_type": "code",
   "execution_count": 11,
   "id": "b472fda7-23e8-4706-bbb3-291111727317",
   "metadata": {},
   "outputs": [],
   "source": [
    "from Bio.Blast import NCBIWWW\n",
    "\n",
    "result_handle = NCBIWWW.qblast(\"blastn\", \"nt\", row)\n",
    "\n",
    "with open(\"blast_results.xml\", \"w\") as output_file:\n",
    "    output_file.write(result_handle.read())\n",
    "\n",
    "result_handle.close()\n"
   ]
  },
  {
   "cell_type": "markdown",
   "id": "64207dec-2be6-4c77-b270-0900b07dbe2e",
   "metadata": {},
   "source": [
    "## Counting the number of complete Zika virus genomes in GenBank"
   ]
  },
  {
   "cell_type": "code",
   "execution_count": 20,
   "id": "564c82ed-31d3-44c3-b6bd-28c6e64da4f5",
   "metadata": {},
   "outputs": [
    {
     "name": "stdout",
     "output_type": "stream",
     "text": [
      "Number of entries for Zika virus sequences in GenBank: 336\n",
      "These are the first 10 accession numbers: ['2471615310', '2471615308', '2471615306', '2471615304', '2471615302', '2471615300', '2471615298', '2471615296', '1696858399', '2411462333']\n"
     ]
    }
   ],
   "source": [
    "# Define the search term\n",
    "search_term = '\"Zika virus\"[ORGANISM] AND \"complete genome\"[TITLE]'\n",
    "\n",
    "# Perform the search\n",
    "handle = Entrez.esearch(db=\"nucleotide\", term=search_term, retmax=10000)\n",
    "record = Entrez.read(handle)\n",
    "\n",
    "# Get the count of entries\n",
    "count = record[\"Count\"]\n",
    "gis = record[\"IdList\"]\n",
    "\n",
    "print(\"Number of entries for Zika virus sequences in GenBank:\", count)\n",
    "print(\"These are the first 10 accession numbers:\", gis[0:10] )\n"
   ]
  },
  {
   "cell_type": "markdown",
   "id": "06bd4ccf-6137-4c6d-944d-e195bcf848c3",
   "metadata": {},
   "source": [
    "## We can download the FASTA files using the list of sequence IDs"
   ]
  },
  {
   "cell_type": "code",
   "execution_count": 21,
   "id": "5fb78fe6-c0fa-4e97-9f55-1bc3bfb08405",
   "metadata": {},
   "outputs": [
    {
     "name": "stdout",
     "output_type": "stream",
     "text": [
      "FASTA sequence saved: OQ661919.1.fasta\n",
      "FASTA sequence saved: OQ661918.1.fasta\n",
      "FASTA sequence saved: OQ661917.1.fasta\n"
     ]
    }
   ],
   "source": [
    "from Bio import SeqIO\n",
    "\n",
    "# Define the list of GI codes\n",
    "gi_codes = [\"2471615310\", \"2471615308\", \"2471615306\"]  \n",
    "\n",
    "# Retrieve the FASTA sequences\n",
    "handle = Entrez.efetch(db=\"nucleotide\", id=gi_codes, rettype=\"fasta\", retmode=\"text\")\n",
    "records = SeqIO.parse(handle, \"fasta\")\n",
    "\n",
    "# Save each sequence as a separate FASTA file\n",
    "for record in records:\n",
    "    filename = f\"{record.id}.fasta\"\n",
    "    SeqIO.write(record, filename, \"fasta\")\n",
    "    print(f\"FASTA sequence saved: {filename}\")\n",
    "\n",
    "handle.close()\n"
   ]
  },
  {
   "cell_type": "markdown",
   "id": "18b0ec32-d5ab-406e-bef1-cd8c8c6a21ef",
   "metadata": {},
   "source": [
    "## Fetching a GenBank file"
   ]
  },
  {
   "cell_type": "code",
   "execution_count": 22,
   "id": "0ffc1d55-1c9b-48fc-adf8-2c5bde44c0ee",
   "metadata": {},
   "outputs": [
    {
     "name": "stdout",
     "output_type": "stream",
     "text": [
      "GenBank record fetched and saved successfully.\n"
     ]
    }
   ],
   "source": [
    "# Accession number of the GenBank entry\n",
    "accession_number = \"2471615310\"  # Replace with the actual accession number\n",
    "\n",
    "# Fetch the GenBank record\n",
    "handle = Entrez.efetch(db=\"nucleotide\", id=accession_number, rettype=\"gb\", retmode=\"text\")\n",
    "genbank_record = handle.read()\n",
    "\n",
    "# Save the GenBank record to a file\n",
    "output_file = \"2471615310.gb\"  # Replace with the desired output file path\n",
    "with open(output_file, \"w\") as file:\n",
    "    file.write(genbank_record)\n",
    "\n",
    "# Close the handle\n",
    "handle.close()\n",
    "\n",
    "print(\"GenBank record fetched and saved successfully.\")\n"
   ]
  },
  {
   "cell_type": "markdown",
   "id": "53cfc387-5cdb-4dd0-be48-844b6b853aa6",
   "metadata": {},
   "source": [
    "## Parsing GB file to extract useful files"
   ]
  },
  {
   "cell_type": "code",
   "execution_count": 25,
   "id": "9f8b7b14-23f2-4547-a94a-1ca9dee98f72",
   "metadata": {},
   "outputs": [
    {
     "name": "stdout",
     "output_type": "stream",
     "text": [
      "Accession: OQ661919.1\n",
      "Country: Thailand\n",
      "Collection Date: 06-Nov-2018\n",
      "Host: Homo sapiens\n",
      "-----------------------\n"
     ]
    }
   ],
   "source": [
    "genbank_file = \"2471615310.gb\"  # Replace with the path to your GenBank file\n",
    "\n",
    "# Parse the GenBank file and extract desired information\n",
    "for record in SeqIO.parse(genbank_file, \"genbank\"):\n",
    "    accession = record.id\n",
    "    country = record.features[0].qualifiers.get(\"country\", [\"Unknown\"])[0]\n",
    "    collection_date = record.features[0].qualifiers.get(\"collection_date\", [\"Unknown\"])[0]\n",
    "    host = record.features[0].qualifiers.get(\"host\", [\"Unknown\"])[0]\n",
    "\n",
    "    print(f\"Accession: {accession}\")\n",
    "    print(f\"Country: {country}\")\n",
    "    print(f\"Collection Date: {collection_date}\")\n",
    "    print(f\"Host: {host}\")\n",
    "    print(\"-----------------------\")\n"
   ]
  },
  {
   "cell_type": "code",
   "execution_count": null,
   "id": "740d105e-3384-4ae1-ba3b-69dda33c6afa",
   "metadata": {},
   "outputs": [],
   "source": []
  }
 ],
 "metadata": {
  "kernelspec": {
   "display_name": "Python 3 (ipykernel)",
   "language": "python",
   "name": "python3"
  },
  "language_info": {
   "codemirror_mode": {
    "name": "ipython",
    "version": 3
   },
   "file_extension": ".py",
   "mimetype": "text/x-python",
   "name": "python",
   "nbconvert_exporter": "python",
   "pygments_lexer": "ipython3",
   "version": "3.9.12"
  }
 },
 "nbformat": 4,
 "nbformat_minor": 5
}
